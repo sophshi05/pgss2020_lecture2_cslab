{
  "nbformat": 4,
  "nbformat_minor": 0,
  "metadata": {
    "colab": {
      "name": "myFirstScript.ipynb",
      "provenance": [],
      "collapsed_sections": [],
      "toc_visible": true
    },
    "kernelspec": {
      "name": "python3",
      "display_name": "Python 3"
    }
  },
  "cells": [
    {
      "cell_type": "markdown",
      "metadata": {
        "id": "Dq6jie2RUu3Y",
        "colab_type": "text"
      },
      "source": [
        "In this script, we:\n",
        "1. Connect Colab to our Google Drive\n",
        "2. Read a file from Github as a RAW file, into a Pandas data frame\n",
        "3. Summarize that data\n",
        "4. Read a file from Google Drive into a separate Pandas data frame\n",
        "\n"
      ]
    },
    {
      "cell_type": "markdown",
      "metadata": {
        "id": "oLM3mBgeVLg4",
        "colab_type": "text"
      },
      "source": [
        "# Connect Colab to Google Drive\n"
      ]
    },
    {
      "cell_type": "code",
      "metadata": {
        "id": "NukQB3_UGWtu",
        "colab_type": "code",
        "colab": {
          "base_uri": "https://localhost:8080/",
          "height": 54
        },
        "outputId": "60f3ffae-3b2c-4657-8cf9-f8d0c447cd20"
      },
      "source": [
        "from google.colab import drive\n",
        "drive.mount('/content/drive')"
      ],
      "execution_count": 10,
      "outputs": [
        {
          "output_type": "stream",
          "text": [
            "Drive already mounted at /content/drive; to attempt to forcibly remount, call drive.mount(\"/content/drive\", force_remount=True).\n"
          ],
          "name": "stdout"
        }
      ]
    },
    {
      "cell_type": "markdown",
      "metadata": {
        "id": "cSB_Fm8AVSDw",
        "colab_type": "text"
      },
      "source": [
        "# Read a file from Github as a RAW file, into a Pandas data frame"
      ]
    },
    {
      "cell_type": "code",
      "metadata": {
        "id": "zmoWyNOVV4ln",
        "colab_type": "code",
        "colab": {}
      },
      "source": [
        "import pandas as pd\n",
        "ChicagoData = pd.read_csv('https://raw.githubusercontent.com/menonpg/covid19_Chicago/master/timeSeries_COVID19_Chicago.csv')"
      ],
      "execution_count": 6,
      "outputs": []
    },
    {
      "cell_type": "markdown",
      "metadata": {
        "id": "ZxDW4SxYqH7b",
        "colab_type": "text"
      },
      "source": [
        "# Summarize the above data and write that file from Github into a location in Google Drive\n"
      ]
    },
    {
      "cell_type": "code",
      "metadata": {
        "id": "KZ3Akig-eXE6",
        "colab_type": "code",
        "colab": {
          "base_uri": "https://localhost:8080/",
          "height": 221
        },
        "outputId": "fbb2e08d-d941-4dca-9a7a-f0ff3714dfe3"
      },
      "source": [
        "print(\"Min values by column \\n\" + str(ChicagoData.aggregate( 'min' )) + '\\n\\n')\n",
        "print(\"Max values by column \\n\" + str(ChicagoData.aggregate( 'max' )))\n"
      ],
      "execution_count": null,
      "outputs": [
        {
          "output_type": "stream",
          "text": [
            "Min values by column \n",
            "Cases            598\n",
            "Deaths             4\n",
            "Date      2020-03-24\n",
            "dtype: object\n",
            "\n",
            "\n",
            "Max values by column \n",
            "Cases          52813\n",
            "Deaths          2623\n",
            "Date      2020-07-02\n",
            "dtype: object\n"
          ],
          "name": "stdout"
        }
      ]
    },
    {
      "cell_type": "markdown",
      "metadata": {
        "id": "YdeJ-rfNZAu6",
        "colab_type": "text"
      },
      "source": [
        "# Read file from Google Drive"
      ]
    },
    {
      "cell_type": "code",
      "metadata": {
        "id": "AxDKWWaeX3eR",
        "colab_type": "code",
        "colab": {}
      },
      "source": [
        "import pandas as pd\n",
        "ChicagoData_fromDrive = pd.read_csv('/content/drive/My Drive/DATA/timeSeries_COVID19_Chicago.csv')"
      ],
      "execution_count": 11,
      "outputs": []
    },
    {
      "cell_type": "code",
      "metadata": {
        "id": "mi-D04Lxe3xC",
        "colab_type": "code",
        "colab": {
          "base_uri": "https://localhost:8080/",
          "height": 221
        },
        "outputId": "f88b664c-0126-4a22-b93b-719fe70480da"
      },
      "source": [
        "print(\"Min values by column \\n\" + str(ChicagoData_fromDrive.aggregate( 'min' )) + '\\n\\n')\n",
        "print(\"Max values by column \\n\" + str(ChicagoData_fromDrive.aggregate( 'max' )))"
      ],
      "execution_count": 12,
      "outputs": [
        {
          "output_type": "stream",
          "text": [
            "Min values by column \n",
            "Cases            598\n",
            "Deaths             4\n",
            "Date      2020-03-24\n",
            "dtype: object\n",
            "\n",
            "\n",
            "Max values by column \n",
            "Cases          52813\n",
            "Deaths          2623\n",
            "Date      2020-07-04\n",
            "dtype: object\n"
          ],
          "name": "stdout"
        }
      ]
    },
    {
      "cell_type": "markdown",
      "metadata": {
        "id": "9nfoqdlkVdpa",
        "colab_type": "text"
      },
      "source": [
        "# Read a file from Google Drive into a a separate Pandas data frame"
      ]
    },
    {
      "cell_type": "code",
      "metadata": {
        "id": "YjVHWybGbUSN",
        "colab_type": "code",
        "colab": {}
      },
      "source": [
        "ChicagoData.to_csv(\"/content/drive/My Drive/DATA/timeSeries_COVID19_Chicago.csv\", index=False)"
      ],
      "execution_count": 7,
      "outputs": []
    }
  ]
}